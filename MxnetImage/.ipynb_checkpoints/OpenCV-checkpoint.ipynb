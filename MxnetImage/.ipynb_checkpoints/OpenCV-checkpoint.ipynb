{
 "cells": [
  {
   "cell_type": "code",
   "execution_count": 1,
   "metadata": {},
   "outputs": [],
   "source": [
    "import cv2\n",
    "import numpy as np\n",
    "import matplotlib.pyplot as plt"
   ]
  },
  {
   "cell_type": "code",
   "execution_count": 3,
   "metadata": {},
   "outputs": [],
   "source": [
    "## 1. 개요\n",
    "# 영상 처리와 컴퓨터 비전을 위한 오픈소스 라이브러리\n",
    "# C, C++, Python 등에서 사용 가능\n",
    "# 설치: pip install opencv-python"
   ]
  },
  {
   "cell_type": "code",
   "execution_count": 4,
   "metadata": {},
   "outputs": [],
   "source": [
    "## 2. 이미지 읽어서 살펴보기\n",
    "# cv2.imread(file_name, flag)\n",
    "# 이미지를 읽어 Numpy 객체로 만드는 함수\n",
    "#     1. file_name: 읽고자 하는 이미지 파일\n",
    "#     2. flag: 이미지를 읽는 방법 설정\n",
    "#         IMREAD_COLOR: 이미지를 Color로 읽고, 투명한 부분은 무시\n",
    "#         IMREAD_GRAYSCALE: 이미지를 Grayscale로 읽기\n",
    "#         IMREAD_UNCHANGED: 이미지를 Color로 읽고, 투명한 부분도 읽기(Alpha)\n",
    "#     3. 반환 값: Numpy 객체(행, 열, 색상: 기본 BGR)\n",
    "# Jupyter Notebook 사용시에는 plt.imread()"
   ]
  },
  {
   "cell_type": "code",
   "execution_count": null,
   "metadata": {},
   "outputs": [],
   "source": [
    "image = cv2.imread('OpenCV/images/cat.jpg', cv2.IMREAD_COLOR)\n",
    "image1 = cv2.imread('OpenCV/images/cat.jpg', cv2.IMREAD_COLOR)\n",
    "image2 = cv2.imread('OpenCV/images/cat.jpg', cv2.IMREAD_GRAYSCALE)\n",
    "image3 = cv2.imread('OpenCV/images/cat.jpg', cv2.IMREAD_UNCHANGED)"
   ]
  }
 ],
 "metadata": {
  "kernelspec": {
   "display_name": "Python 3",
   "language": "python",
   "name": "python3"
  },
  "language_info": {
   "codemirror_mode": {
    "name": "ipython",
    "version": 3
   },
   "file_extension": ".py",
   "mimetype": "text/x-python",
   "name": "python",
   "nbconvert_exporter": "python",
   "pygments_lexer": "ipython3",
   "version": "3.7.3"
  }
 },
 "nbformat": 4,
 "nbformat_minor": 2
}
