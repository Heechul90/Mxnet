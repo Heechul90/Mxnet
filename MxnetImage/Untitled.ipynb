{
 "cells": [
  {
   "cell_type": "code",
   "execution_count": 31,
   "metadata": {},
   "outputs": [],
   "source": [
    "# 필요한 함수, 모듈 불러오기\n",
    "import mxnet as mx\n",
    "from mxnet import image\n",
    "import numpy as np\n",
    "import cv2\n",
    "import matplotlib.pyplot as plt\n",
    "from matplotlib.image import imread\n",
    "import scipy.misc\n",
    "import PIL.Image as pilimg\n",
    "from PIL import Image\n",
    "%matplotlib inline"
   ]
  },
  {
   "cell_type": "code",
   "execution_count": 32,
   "metadata": {},
   "outputs": [],
   "source": [
    "def image(a):\n",
    "    cv2.imwrite('D:/HeechulFromGithub/Mxnet/MxnetImage/data/heechul22.jpg', a)\n",
    "    imread('D:/HeechulFromGithub/Mxnet/MxnetImage/data/heechul22.jpg')\n",
    "    plt.imshow(heechul1)\n",
    "    plt.show()"
   ]
  },
  {
   "cell_type": "code",
   "execution_count": 33,
   "metadata": {},
   "outputs": [],
   "source": [
    "# 데이터 불러오기\n",
    "heechul1 = mx.image.imread('D:\\HeechulFromGithub\\Mxnet\\MxnetImage\\data/heechul.jpg')\n",
    "heechul2 = mx.image.imread('D:\\HeechulFromGithub\\Mxnet\\MxnetImage\\data/heechul.jpg', flag=0)\n",
    "heechul3 = mx.image.imread('D:\\HeechulFromGithub\\Mxnet\\MxnetImage\\data/heechul.jpg', to_rgb=0)"
   ]
  },
  {
   "cell_type": "code",
   "execution_count": 34,
   "metadata": {},
   "outputs": [
    {
     "name": "stdout",
     "output_type": "stream",
     "text": [
      "(460, 460, 3)\n",
      "(460, 460, 1)\n",
      "(460, 460, 3)\n"
     ]
    }
   ],
   "source": [
    "# 모양 보기\n",
    "print(heechul1.shape)\n",
    "print(heechul2.shape)\n",
    "print(heechul3.shape)"
   ]
  },
  {
   "cell_type": "code",
   "execution_count": 35,
   "metadata": {},
   "outputs": [
    {
     "data": {
      "text/plain": [
       "numpy.uint8"
      ]
     },
     "execution_count": 35,
     "metadata": {},
     "output_type": "execute_result"
    }
   ],
   "source": [
    "heechul1.dtype"
   ]
  },
  {
   "cell_type": "code",
   "execution_count": 36,
   "metadata": {},
   "outputs": [
    {
     "name": "stdout",
     "output_type": "stream",
     "text": [
      "(224, 224, 3)\n"
     ]
    }
   ],
   "source": [
    "# 사이즈 조정하기\n",
    "heechul1 = mx.image.imresize(heechul1, 224, 224)\n",
    "print(heechul1.shape)"
   ]
  },
  {
   "cell_type": "code",
   "execution_count": 39,
   "metadata": {},
   "outputs": [
    {
     "name": "stdout",
     "output_type": "stream",
     "text": [
      "\n",
      "[[[ 60  69  47]\n",
      "  [ 60  69  48]\n",
      "  [ 60  69  48]\n",
      "  ...\n",
      "  [ 35  41  34]\n",
      "  [ 35  41  35]\n",
      "  [ 35  41  35]]\n",
      "\n",
      " [[ 60  69  48]\n",
      "  [ 60  69  48]\n",
      "  [ 61  70  49]\n",
      "  ...\n",
      "  [ 35  41  35]\n",
      "  [ 35  41  35]\n",
      "  [ 35  41  35]]\n",
      "\n",
      " [[ 61  70  50]\n",
      "  [ 61  70  50]\n",
      "  [ 62  71  50]\n",
      "  ...\n",
      "  [ 36  41  35]\n",
      "  [ 36  41  35]\n",
      "  [ 36  41  35]]\n",
      "\n",
      " ...\n",
      "\n",
      " [[232 230 216]\n",
      "  [233 231 217]\n",
      "  [234 232 219]\n",
      "  ...\n",
      "  [222 209 178]\n",
      "  [224 211 180]\n",
      "  [225 212 181]]\n",
      "\n",
      " [[233 231 217]\n",
      "  [234 232 218]\n",
      "  [236 234 220]\n",
      "  ...\n",
      "  [221 209 177]\n",
      "  [223 211 179]\n",
      "  [224 212 180]]\n",
      "\n",
      " [[234 232 218]\n",
      "  [234 232 218]\n",
      "  [236 234 220]\n",
      "  ...\n",
      "  [220 209 176]\n",
      "  [223 211 179]\n",
      "  [223 212 179]]]\n",
      "<NDArray 640x640x3 @cpu(0)>\n"
     ]
    }
   ],
   "source": [
    "heechul1 = mx.image.resize_short(heechul1, 640)\n",
    "print(heechul1)"
   ]
  },
  {
   "cell_type": "code",
   "execution_count": 42,
   "metadata": {},
   "outputs": [
    {
     "name": "stdout",
     "output_type": "stream",
     "text": [
      "(720, 120)\n"
     ]
    }
   ],
   "source": [
    "a = (1028, 1028)\n",
    "a = mx.image.scale_down(a, (720, 120))\n",
    "print(a)"
   ]
  },
  {
   "cell_type": "code",
   "execution_count": null,
   "metadata": {},
   "outputs": [],
   "source": []
  },
  {
   "cell_type": "code",
   "execution_count": null,
   "metadata": {},
   "outputs": [],
   "source": []
  },
  {
   "cell_type": "code",
   "execution_count": null,
   "metadata": {},
   "outputs": [],
   "source": []
  }
 ],
 "metadata": {
  "kernelspec": {
   "display_name": "Python 3",
   "language": "python",
   "name": "python3"
  },
  "language_info": {
   "codemirror_mode": {
    "name": "ipython",
    "version": 3
   },
   "file_extension": ".py",
   "mimetype": "text/x-python",
   "name": "python",
   "nbconvert_exporter": "python",
   "pygments_lexer": "ipython3",
   "version": "3.7.3"
  }
 },
 "nbformat": 4,
 "nbformat_minor": 2
}
